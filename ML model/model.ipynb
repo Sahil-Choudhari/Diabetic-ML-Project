{
 "cells": [
  {
   "cell_type": "code",
   "execution_count": 18,
   "id": "63953e04-374d-4bd9-927e-53457b4a766d",
   "metadata": {},
   "outputs": [
    {
     "name": "stdout",
     "output_type": "stream",
     "text": [
      "Accuracy: 0.8571428571428571\n",
      "\n",
      "Confusion Matrix:\n",
      " [[1 1]\n",
      " [0 5]]\n",
      "\n",
      "Classification Report:\n",
      "               precision    recall  f1-score   support\n",
      "\n",
      "           0       1.00      0.50      0.67         2\n",
      "           1       0.83      1.00      0.91         5\n",
      "\n",
      "    accuracy                           0.86         7\n",
      "   macro avg       0.92      0.75      0.79         7\n",
      "weighted avg       0.88      0.86      0.84         7\n",
      "\n",
      "\n",
      "Prediction for new customer: No\n"
     ]
    }
   ],
   "source": [
    "# Import libraries\n",
    "import pandas as pd\n",
    "from sklearn.model_selection import train_test_split\n",
    "from sklearn.preprocessing import LabelEncoder, StandardScaler\n",
    "from sklearn.linear_model import LogisticRegression\n",
    "from sklearn.metrics import accuracy_score, confusion_matrix, classification_report\n",
    "\n",
    "# Sample dataset\n",
    "data = {\n",
    "    'Age': [22, 25, 47, 35, 52, 23, 40, 29, 30, 50],\n",
    "    'Gender': ['Male', 'Female', 'Female', 'Male', 'Male', 'Female', 'Male', 'Female', 'Male', 'Female'],\n",
    "    'Monthly_Income': [3000, 4000, 5000, 4500, 6000, 3200, 5200, 4100, 4700, 5800],\n",
    "    'Device_Type': ['Mobile', 'Laptop', 'TV', 'Mobile', 'TV', 'Laptop', 'TV', 'Mobile', 'Laptop', 'TV'],\n",
    "    'Subscribed': ['Yes', 'No', 'Yes', 'No', 'Yes', 'No', 'Yes', 'No', 'Yes', 'Yes']\n",
    "}\n",
    "\n",
    "# Create DataFrame\n",
    "df = pd.DataFrame(data)\n",
    "\n",
    "# Encode categorical variables\n",
    "le_gender = LabelEncoder()\n",
    "df['Gender'] = le_gender.fit_transform(df['Gender'])  # Male=1, Female=0\n",
    "\n",
    "le_device = LabelEncoder()\n",
    "df['Device_Type'] = le_device.fit_transform(df['Device_Type'])  # Mobile=1, Laptop=2, TV=0\n",
    "\n",
    "le_subscribed = LabelEncoder()\n",
    "df['Subscribed'] = le_subscribed.fit_transform(df['Subscribed'])  # Yes=1, No=0\n",
    "\n",
    "# Features and target\n",
    "X = df[['Age', 'Gender', 'Monthly_Income', 'Device_Type']]\n",
    "y = df['Subscribed']\n",
    "\n",
    "# Scale features\n",
    "scaler = StandardScaler()\n",
    "X_scaled = scaler.fit_transform(X)\n",
    "\n",
    "# Split dataset\n",
    "X_train, X_test, y_train, y_test = train_test_split(X_scaled, y, test_size=0.3, random_state=42)\n",
    "\n",
    "# Logistic Regression model\n",
    "model = LogisticRegression()\n",
    "model.fit(X_train, y_train)\n",
    "\n",
    "# Predictions\n",
    "y_pred = model.predict(X_train)\n",
    "\n",
    "# Evaluation\n",
    "print(\"Accuracy:\", accuracy_score(y_train, y_pred))\n",
    "print(\"\\nConfusion Matrix:\\n\", confusion_matrix(y_train, y_pred))\n",
    "print(\"\\nClassification Report:\\n\", classification_report(y_train, y_pred))\n",
    "\n",
    "# Predict for a new customer\n",
    "new_customer = pd.DataFrame({\n",
    "    'Age': [28],\n",
    "    'Gender': ['Male'],\n",
    "    'Monthly_Income': [4000],\n",
    "    'Device_Type': ['Laptop']\n",
    "})\n",
    "\n",
    "# Encode and scale new customer\n",
    "new_customer['Gender'] = le_gender.transform(new_customer['Gender'])\n",
    "new_customer['Device_Type'] = le_device.transform(new_customer['Device_Type'])\n",
    "new_customer_scaled = scaler.transform(new_customer)\n",
    "\n",
    "prediction = model.predict(new_customer_scaled)\n",
    "prediction_label = le_subscribed.inverse_transform(prediction)\n",
    "print(\"\\nPrediction for new customer:\", prediction_label[0])\n"
   ]
  },
  {
   "cell_type": "code",
   "execution_count": 20,
   "id": "b69dc700-b396-4940-883a-446dff2e64c5",
   "metadata": {},
   "outputs": [
    {
     "name": "stdout",
     "output_type": "stream",
     "text": [
      "Example 1: Probability [No=0.4870, Yes=0.5130] -- Actual: 1 -- Predicted: 1\n",
      "Example 2: Probability [No=0.5275, Yes=0.4725] -- Actual: 0 -- Predicted: 0\n",
      "Example 3: Probability [No=0.1900, Yes=0.8100] -- Actual: 1 -- Predicted: 1\n",
      "Example 4: Probability [No=0.1692, Yes=0.8308] -- Actual: 1 -- Predicted: 1\n",
      "Example 5: Probability [No=0.1069, Yes=0.8931] -- Actual: 1 -- Predicted: 1\n",
      "Example 6: Probability [No=0.3618, Yes=0.6382] -- Actual: 0 -- Predicted: 1\n",
      "Example 7: Probability [No=0.1577, Yes=0.8423] -- Actual: 1 -- Predicted: 1\n"
     ]
    }
   ],
   "source": [
    "# Get predicted probabilities for the test set\n",
    "probabilities = model.predict_proba(X_train)  # returns array with [P(No), P(Yes)]\n",
    "\n",
    "# Print probability for each example\n",
    "# Print probability, actual, and predicted for each test example\n",
    "for i, prob in enumerate(probabilities):\n",
    "    print(f\"Example {i+1}: \"\n",
    "          f\"Probability [No={prob[0]:.4f}, Yes={prob[1]:.4f}] \"\n",
    "          f\"-- Actual: {y_train.iloc[i]} \"\n",
    "          f\"-- Predicted: {y_pred[i]}\")\n",
    "\n"
   ]
  },
  {
   "cell_type": "code",
   "execution_count": 13,
   "id": "ac2acd1d-9dd1-4de2-8f20-1cbfa65d37f6",
   "metadata": {},
   "outputs": [
    {
     "data": {
      "text/plain": [
       "8    1\n",
       "1    0\n",
       "5    0\n",
       "0    1\n",
       "7    0\n",
       "2    1\n",
       "9    1\n",
       "4    1\n",
       "3    0\n",
       "Name: Subscribed, dtype: int32"
      ]
     },
     "execution_count": 13,
     "metadata": {},
     "output_type": "execute_result"
    }
   ],
   "source": [
    "y_test"
   ]
  },
  {
   "cell_type": "code",
   "execution_count": null,
   "id": "5c2d4c9a-740b-4f9e-87c0-7e9466f30261",
   "metadata": {},
   "outputs": [],
   "source": []
  }
 ],
 "metadata": {
  "kernelspec": {
   "display_name": "Python 3 (ipykernel)",
   "language": "python",
   "name": "python3"
  },
  "language_info": {
   "codemirror_mode": {
    "name": "ipython",
    "version": 3
   },
   "file_extension": ".py",
   "mimetype": "text/x-python",
   "name": "python",
   "nbconvert_exporter": "python",
   "pygments_lexer": "ipython3",
   "version": "3.12.7"
  }
 },
 "nbformat": 4,
 "nbformat_minor": 5
}
